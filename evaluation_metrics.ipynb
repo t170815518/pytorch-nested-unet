{
 "cells": [
  {
   "cell_type": "code",
   "execution_count": 19,
   "id": "f9767bb7-e9bd-4770-b52e-93459058e6b7",
   "metadata": {},
   "outputs": [],
   "source": [
    "from collections import defaultdict\n",
    "from tqdm.auto import tqdm\n",
    "import numpy as np \n",
    "from Segmentation_Metrics.segmentationmetrics import SegmentationMetrics"
   ]
  },
  {
   "cell_type": "code",
   "execution_count": 20,
   "id": "19c08b91-ef7d-47f8-9ce9-48308ba481cf",
   "metadata": {},
   "outputs": [
    {
     "data": {
      "application/json": {
       "ascii": false,
       "bar_format": null,
       "colour": null,
       "elapsed": 0.0060002803802490234,
       "initial": 0,
       "n": 0,
       "ncols": null,
       "nrows": 10,
       "postfix": null,
       "prefix": "",
       "rate": null,
       "total": 9,
       "unit": "it",
       "unit_divisor": 1000,
       "unit_scale": false
      },
      "application/vnd.jupyter.widget-view+json": {
       "model_id": "6c51d79880a94e509f54c96f7b58b1d5",
       "version_major": 2,
       "version_minor": 0
      },
      "text/plain": [
       "  0%|          | 0/9 [00:00<?, ?it/s]"
      ]
     },
     "metadata": {},
     "output_type": "display_data"
    },
    {
     "name": "stderr",
     "output_type": "stream",
     "text": [
      "C:\\Users\\chris\\Desktop\\CodeRepositories\\pytorch-nested-unet\\Segmentation_Metrics\\segmentationmetrics\\metrics.py:138: RuntimeWarning: invalid value encountered in long_scalars\n",
      "  np.sum((self.truth == 1) & (self.prediction == 0)))\n",
      "C:\\Users\\chris\\Desktop\\CodeRepositories\\pytorch-nested-unet\\Segmentation_Metrics\\segmentationmetrics\\surface_distance\\metrics.py:320: RuntimeWarning: invalid value encountered in double_scalars\n",
      "  np.sum(surfel_areas_pred))\n"
     ]
    }
   ],
   "source": [
    "mask_automatic = np.abs(np.random.randn(512, 512))\n",
    "mask_manual = np.random.randint(low=0, high=1, size=(512, 512))\n",
    "metrics2list = defaultdict(list)\n",
    "\n",
    "for x in tqdm(range(1, 10)):\n",
    "    metrics = SegmentationMetrics(mask_automatic, mask_manual, zoom=(1, 1), threshold=x * 0.1)\n",
    "    df = metrics.get_df()\n",
    "    for index, df_ in df.iterrows():\n",
    "        metrics2list[index].append(df_['Score'])"
   ]
  },
  {
   "cell_type": "code",
   "execution_count": 23,
   "id": "5a82f5e5-900f-459e-acb6-0b0227493ef5",
   "metadata": {},
   "outputs": [
    {
     "data": {
      "text/plain": [
       "[<matplotlib.lines.Line2D at 0x296afd1e248>]"
      ]
     },
     "execution_count": 23,
     "metadata": {},
     "output_type": "execute_result"
    },
    {
     "data": {
      "image/png": "[encoded data removed]",
      "text/plain": [
       "<Figure size 432x288 with 1 Axes>"
      ]
     },
     "metadata": {
      "needs_background": "light"
     },
     "output_type": "display_data"
    }
   ],
   "source": [
    "import matplotlib.pyplot as plt\n",
    "\n",
    "plt.plot(range(1, 10), metrics2list['accuracy'])"
   ]
  },
  {
   "cell_type": "code",
   "execution_count": null,
   "id": "a2c288d7-6d32-429d-b017-0eab9f3335a0",
   "metadata": {},
   "outputs": [],
   "source": []
  },
  {
   "cell_type": "code",
   "execution_count": null,
   "id": "a7e27645-ef0b-41d2-8c1e-300d8de07315",
   "metadata": {},
   "outputs": [],
   "source": [
    "df"
   ]
  },
  {
   "cell_type": "code",
   "execution_count": null,
   "id": "3cdc7832-68bb-4100-b53c-896409d434ac",
   "metadata": {},
   "outputs": [],
   "source": []
  }
 ],
 "metadata": {
  "kernelspec": {
   "display_name": "Python 3 (ipykernel)",
   "language": "python",
   "name": "python3"
  },
  "language_info": {
   "codemirror_mode": {
    "name": "ipython",
    "version": 3
   },
   "file_extension": ".py",
   "mimetype": "text/x-python",
   "name": "python",
   "nbconvert_exporter": "python",
   "pygments_lexer": "ipython3",
   "version": "3.7.9"
  }
 },
 "nbformat": 4,
 "nbformat_minor": 5
}
