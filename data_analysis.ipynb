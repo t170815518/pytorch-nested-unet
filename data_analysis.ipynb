{
 "cells": [
  {
   "cell_type": "code",
   "execution_count": null,
   "id": "bc9992f7-e62f-4580-8b07-24fd7ca04cb7",
   "metadata": {},
   "outputs": [],
   "source": [
    "DATA_PATH = '矿石图像分割/Annotations/10.png'"
   ]
  },
  {
   "cell_type": "code",
   "execution_count": null,
   "id": "8ab9f95e-a0ca-4c5c-ba03-3e6230631edf",
   "metadata": {},
   "outputs": [],
   "source": [
    "from PIL import Image"
   ]
  },
  {
   "cell_type": "code",
   "execution_count": null,
   "id": "48b85654-ff28-4663-9afd-eb4a5186e466",
   "metadata": {},
   "outputs": [],
   "source": [
    "img = Image.open(DATA_PATH)\n",
    "img.size"
   ]
  },
  {
   "cell_type": "code",
   "execution_count": null,
   "id": "9251b1ce-37fe-44dc-a94d-bdccbf9db4c7",
   "metadata": {},
   "outputs": [],
   "source": [
    "for p in os.listdir('inputs/矿石图像分割/Annotations/'):\n",
    "    img = Image.open(os.path.join('inputs/矿石图像分割/Annotations/', p))\n",
    "    img_arr = np.array(img)\n",
    "    print(img_arr.max())"
   ]
  },
  {
   "cell_type": "code",
   "execution_count": null,
   "id": "67989a4d-9695-4683-a4eb-82659b25c395",
   "metadata": {},
   "outputs": [],
   "source": [
    "import os"
   ]
  },
  {
   "cell_type": "code",
   "execution_count": null,
   "id": "78ffaaf3-42e2-4006-ace7-14f9097e2afc",
   "metadata": {},
   "outputs": [],
   "source": [
    "len(os.listdir('矿石图像分割/Annotations/'))"
   ]
  },
  {
   "cell_type": "code",
   "execution_count": null,
   "id": "593bf691-a4f2-4f07-8f2f-72ab597d6be2",
   "metadata": {},
   "outputs": [],
   "source": [
    "len(os.listdir('矿石图像分割/JPEGImages/'))"
   ]
  },
  {
   "cell_type": "code",
   "execution_count": null,
   "id": "6aa5a9f0-df17-4ef4-a571-128c71a45472",
   "metadata": {},
   "outputs": [],
   "source": [
    "len(os.listdir('矿石图像分割/SegmentationClass/'))"
   ]
  },
  {
   "cell_type": "code",
   "execution_count": null,
   "id": "3b72633b-861e-445f-a567-f9c7b2a5e5a1",
   "metadata": {},
   "outputs": [],
   "source": [
    "4824 * 0.2"
   ]
  },
  {
   "cell_type": "code",
   "execution_count": null,
   "id": "63e3c3f2-32c7-4bcc-ba64-9c32df371ca1",
   "metadata": {},
   "outputs": [],
   "source": [
    "4824 * 0.8 * 0.9"
   ]
  },
  {
   "cell_type": "code",
   "execution_count": null,
   "id": "fced69bc-12ae-420f-9612-466a8b7d1fc6",
   "metadata": {},
   "outputs": [],
   "source": [
    "import matplotlib.pyplot as plt\n",
    "fig, ax = plt.subplots(3, 1, figsize=(5, 10))\n",
    "ax[0].imshow(Image.open('矿石图像分割/JPEGImages//10.png'))\n",
    "ax[1].imshow(Image.open('矿石图像分割/Annotations/10.png'))\n",
    "ax[2].imshow(Image.open('矿石图像分割/SegmentationClass/10.png'))"
   ]
  },
  {
   "cell_type": "code",
   "execution_count": null,
   "id": "905dfca6-1e6c-4525-bc93-8ac081256d5a",
   "metadata": {},
   "outputs": [],
   "source": [
    "import numpy as np\n",
    "\n",
    "\n",
    "np.unique(np.array(Image.open('矿石图像分割/Annotations/10.png')))"
   ]
  },
  {
   "cell_type": "markdown",
   "id": "6288c2a7-1c14-4cab-b863-a2b94341b6a8",
   "metadata": {},
   "source": [
    "# 处理Annotations的标签"
   ]
  },
  {
   "cell_type": "code",
   "execution_count": 8,
   "id": "ebe489ad-b0ed-45bf-9e0f-c9b239893b7c",
   "metadata": {},
   "outputs": [
    {
     "data": {
      "application/vnd.jupyter.widget-view+json": {
       "model_id": "06f55f00b3a5441695c675034b3e7658",
       "version_major": 2,
       "version_minor": 0
      },
      "text/plain": [
       "  0%|          | 0/4824 [00:00<?, ?it/s]"
      ]
     },
     "metadata": {},
     "output_type": "display_data"
    }
   ],
   "source": [
    "import os\n",
    "from tqdm.auto import tqdm\n",
    "from PIL import Image\n",
    "import numpy as np \n",
    "\n",
    "\n",
    "CLASS_NUM = 3\n",
    "\n",
    "for p in tqdm(os.listdir('inputs/矿石图像分割/Annotations/')):\n",
    "    try:\n",
    "        img = Image.open(os.path.join('inputs/矿石图像分割/Annotations/', p))\n",
    "    except PermissionError:\n",
    "        print(f'[DEBUG] skip {p}')\n",
    "        continue \n",
    "    img_arr = np.array(img)\n",
    "    for class_id in range(CLASS_NUM):\n",
    "        try:\n",
    "            Image.fromarray((img_arr == class_id).astype(np.uint8)).save(f'inputs/矿石图像分割/Annotations/{class_id}/{p}')\n",
    "        except FileNotFoundError:\n",
    "            os.makedirs(f'inputs/矿石图像分割/Annotations/{class_id}', exist_ok=True)\n",
    "            Image.fromarray((img_arr == class_id).astype(np.uint8)).save(f'inputs/矿石图像分割/Annotations/{class_id}/{p}')"
   ]
  },
  {
   "cell_type": "markdown",
   "id": "0111ecd8-bd40-4a63-ac07-92933a4a1d6d",
   "metadata": {},
   "source": [
    "# 分析预测的图片"
   ]
  },
  {
   "cell_type": "code",
   "execution_count": null,
   "id": "bfec30ce-718b-4727-b58c-76dd41051adc",
   "metadata": {},
   "outputs": [
    {
     "data": {
      "text/plain": [
       "<matplotlib.image.AxesImage at 0x7f1c601252e0>"
      ]
     },
     "execution_count": 22,
     "metadata": {},
     "output_type": "execute_result"
    }
   ],
   "source": [
    "# import matplotlib.pyplot as plt\n",
    "from PIL import Image\n",
    "\n",
    "fig, ax = plt.subplots(6, 1, figsize=(5, 10))\n",
    "ax[0].imshow(Image.open('inputs/矿石图像分割/JPEGImages/1299.png'))\n",
    "ax[1].imshow(Image.open('inputs/矿石图像分割/Annotations/1299.png'))\n",
    "ax[2].imshow(Image.open('inputs/矿石图像分割/SegmentationClass/1299.png'))\n",
    "\n",
    "prediction_logit = Image.open('outputs/矿石图像分割_NestedUNet_woDS/0/1299.jpg')\n",
    "ax[3].imshow(np.array(prediction_logit) > 125)\n",
    "\n",
    "prediction_logit = Image.open('outputs/矿石图像分割_NestedUNet_woDS/1/1299.jpg')\n",
    "ax[4].imshow(np.array(prediction_logit) > 125)\n",
    "\n",
    "prediction_logit = Image.open('outputs/矿石图像分割_NestedUNet_woDS/2/1299.jpg')\n",
    "ax[5].imshow(np.array(prediction_logit) > 125)"
   ]
  },
  {
   "cell_type": "code",
   "execution_count": null,
   "id": "d29eda0f-c784-4da6-ac64-21410575163c",
   "metadata": {},
   "outputs": [],
   "source": [
    "import numpy as np\n",
    "\n",
    "np.array(prediction_logit).max()"
   ]
  },
  {
   "cell_type": "code",
   "execution_count": null,
   "id": "9004fac0-3ad6-4f17-9588-1da24d28bdc3",
   "metadata": {},
   "outputs": [],
   "source": [
    "prediction_logitprediction_logit"
   ]
  },
  {
   "cell_type": "code",
   "execution_count": null,
   "id": "90b76cd9-6e41-4366-aa43-438d7c29c3b5",
   "metadata": {},
   "outputs": [],
   "source": []
  }
 ],
 "metadata": {
  "kernelspec": {
   "display_name": "Python 3 (ipykernel)",
   "language": "python",
   "name": "python3"
  },
  "language_info": {
   "codemirror_mode": {
    "name": "ipython",
    "version": 3
   },
   "file_extension": ".py",
   "mimetype": "text/x-python",
   "name": "python",
   "nbconvert_exporter": "python",
   "pygments_lexer": "ipython3",
   "version": "3.8.10"
  }
 },
 "nbformat": 4,
 "nbformat_minor": 5
}
